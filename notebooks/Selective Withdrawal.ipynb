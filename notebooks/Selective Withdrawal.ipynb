{
 "metadata": {
  "language_info": {
   "codemirror_mode": {
    "name": "ipython",
    "version": 3
   },
   "file_extension": ".py",
   "mimetype": "text/x-python",
   "name": "python",
   "nbconvert_exporter": "python",
   "pygments_lexer": "ipython3",
   "version": 3
  },
  "orig_nbformat": 2,
  "kernelspec": {
   "name": "python_defaultSpec_1597173050704",
   "display_name": "Python 3.7.7 64-bit ('base': conda)"
  }
 },
 "nbformat": 4,
 "nbformat_minor": 2,
 "cells": [
  {
   "cell_type": "markdown",
   "metadata": {},
   "source": [
    "# Selective Withdrawal Phenomena and Entrainment\n",
    "\n",
    "Here we'll study the critical moment when the withdrawal Phenomena transitions from selective to entrainment."
   ]
  },
  {
   "cell_type": "code",
   "execution_count": 1,
   "metadata": {
    "tags": []
   },
   "outputs": [
    {
     "output_type": "stream",
     "name": "stdout",
     "text": "C:\\Users\\sabbi\\Dropbox\\Darryl James\\Mendeley_library\\JetEntrainment\\Selective\\Qualifying_docs\\SW_Python\\input\\cohen.csv\nC:\\Users\\sabbi\\Dropbox\\Darryl James\\Mendeley_library\\JetEntrainment\\Selective\\Qualifying_docs\\SW_Python\\input\\single.csv\nC:\\Users\\sabbi\\Dropbox\\Darryl James\\Mendeley_library\\JetEntrainment\\Selective\\Qualifying_docs\\SW_Python\\input\\utube.csv\n"
    }
   ],
   "source": [
    "# Import required packages\n",
    "\n",
    "import numpy as np\n",
    "import pandas as pd \n",
    "\n",
    "%matplotlib inline \n",
    "# %matplotlib notebook #for displaying plots in the notebook under cells with interactivity \n",
    "# %matplotlib nbagg #for displaying plots in the notebook under cells with interactivity  \n",
    "\n",
    "\n",
    "import os\n",
    "for dirname, _, filenames in os.walk('C:\\\\Users\\\\sabbi\\\\Dropbox\\\\Darryl James\\\\Mendeley_library\\\\JetEntrainment\\\\Selective\\\\Qualifying_docs\\\\SW_Python\\\\input'):\n",
    "    for filename in filenames:\n",
    "        print(os.path.join(dirname, filename))\n",
    "\n",
    "\n",
    "\n",
    "\n",
    "\n"
   ]
  },
  {
   "cell_type": "markdown",
   "metadata": {},
   "source": [
    "# Preparing single tube withdrawal form above data"
   ]
  },
  {
   "cell_type": "code",
   "execution_count": 2,
   "metadata": {},
   "outputs": [
    {
     "output_type": "execute_result",
     "data": {
      "text/plain": "                Fluids  PDMS _rho (kg/m^3)  PDMS_nu (cSt)  Water_rho (kg/m^3)  \\\n0  5 cSt PDMS/DI water                 918              5                 998   \n1  5 cSt PDMS/DI water                 918              5                 998   \n2  5 cSt PDMS/DI water                 918              5                 998   \n3  5 cSt PDMS/DI water                 918              5                 998   \n4  5 cSt PDMS/DI water                 918              5                 998   \n\n   Water_nu (cSt)  Interfacial Tension (N/m)    Tube    ID (m)  \\\n0            1.01                       0.03  1/2 SS  0.010795   \n1            1.01                       0.03  1/2 SS  0.010795   \n2            1.01                       0.03  1/2 SS  0.010795   \n3            1.01                       0.03  1/2 SS  0.010795   \n4            1.01                       0.03  1/2 SS  0.010795   \n\n   Flow Rate (GPM)  Submergence S (in)  Layer Depth (in)  day  temp  \n0             2.95               0.338               1.0    1  27.5  \n1             3.03               0.393               1.0    1  25.4  \n2             3.05               0.381               1.0    1  26.7  \n3             3.49               0.392               1.0    1  26.7  \n4             3.53               0.441               1.0    1  26.7  ",
      "text/html": "<div>\n<style scoped>\n    .dataframe tbody tr th:only-of-type {\n        vertical-align: middle;\n    }\n\n    .dataframe tbody tr th {\n        vertical-align: top;\n    }\n\n    .dataframe thead th {\n        text-align: right;\n    }\n</style>\n<table border=\"1\" class=\"dataframe\">\n  <thead>\n    <tr style=\"text-align: right;\">\n      <th></th>\n      <th>Fluids</th>\n      <th>PDMS _rho (kg/m^3)</th>\n      <th>PDMS_nu (cSt)</th>\n      <th>Water_rho (kg/m^3)</th>\n      <th>Water_nu (cSt)</th>\n      <th>Interfacial Tension (N/m)</th>\n      <th>Tube</th>\n      <th>ID (m)</th>\n      <th>Flow Rate (GPM)</th>\n      <th>Submergence S (in)</th>\n      <th>Layer Depth (in)</th>\n      <th>day</th>\n      <th>temp</th>\n    </tr>\n  </thead>\n  <tbody>\n    <tr>\n      <th>0</th>\n      <td>5 cSt PDMS/DI water</td>\n      <td>918</td>\n      <td>5</td>\n      <td>998</td>\n      <td>1.01</td>\n      <td>0.03</td>\n      <td>1/2 SS</td>\n      <td>0.010795</td>\n      <td>2.95</td>\n      <td>0.338</td>\n      <td>1.0</td>\n      <td>1</td>\n      <td>27.5</td>\n    </tr>\n    <tr>\n      <th>1</th>\n      <td>5 cSt PDMS/DI water</td>\n      <td>918</td>\n      <td>5</td>\n      <td>998</td>\n      <td>1.01</td>\n      <td>0.03</td>\n      <td>1/2 SS</td>\n      <td>0.010795</td>\n      <td>3.03</td>\n      <td>0.393</td>\n      <td>1.0</td>\n      <td>1</td>\n      <td>25.4</td>\n    </tr>\n    <tr>\n      <th>2</th>\n      <td>5 cSt PDMS/DI water</td>\n      <td>918</td>\n      <td>5</td>\n      <td>998</td>\n      <td>1.01</td>\n      <td>0.03</td>\n      <td>1/2 SS</td>\n      <td>0.010795</td>\n      <td>3.05</td>\n      <td>0.381</td>\n      <td>1.0</td>\n      <td>1</td>\n      <td>26.7</td>\n    </tr>\n    <tr>\n      <th>3</th>\n      <td>5 cSt PDMS/DI water</td>\n      <td>918</td>\n      <td>5</td>\n      <td>998</td>\n      <td>1.01</td>\n      <td>0.03</td>\n      <td>1/2 SS</td>\n      <td>0.010795</td>\n      <td>3.49</td>\n      <td>0.392</td>\n      <td>1.0</td>\n      <td>1</td>\n      <td>26.7</td>\n    </tr>\n    <tr>\n      <th>4</th>\n      <td>5 cSt PDMS/DI water</td>\n      <td>918</td>\n      <td>5</td>\n      <td>998</td>\n      <td>1.01</td>\n      <td>0.03</td>\n      <td>1/2 SS</td>\n      <td>0.010795</td>\n      <td>3.53</td>\n      <td>0.441</td>\n      <td>1.0</td>\n      <td>1</td>\n      <td>26.7</td>\n    </tr>\n  </tbody>\n</table>\n</div>"
     },
     "metadata": {},
     "execution_count": 2
    }
   ],
   "source": [
    "# Loading data file\n",
    "\n",
    "data_single = pd.read_csv(\"C:\\\\Users\\\\sabbi\\\\Dropbox\\\\Darryl James\\\\Mendeley_library\\\\JetEntrainment\\\\Selective\\\\Qualifying_docs\\\\SW_Python\\\\input\\\\single.csv\")\n",
    "data_single.head()\n"
   ]
  },
  {
   "cell_type": "code",
   "execution_count": 3,
   "metadata": {},
   "outputs": [
    {
     "output_type": "execute_result",
     "data": {
      "text/plain": "   fluids  upper_rho  upper_nu  lower_rho  lower_nu  gamma       dia  \\\n0       6        918   0.00005        998   0.00001   0.03  0.010795   \n1       6        918   0.00005        998   0.00001   0.03  0.010795   \n2       6        918   0.00005        998   0.00001   0.03  0.010795   \n3       6        918   0.00005        998   0.00001   0.03  0.010795   \n4       6        918   0.00005        998   0.00001   0.03  0.010795   \n\n          Q         S  g_reduced  ...      lc_d       S_d      S_lc  nu_ratio  \\\n0  0.000186  0.008585   0.786373  ...  0.572741  0.795294  1.388575   0.91984   \n1  0.000191  0.009982   0.786373  ...  0.572741  0.924706  1.614526   0.91984   \n2  0.000192  0.009677   0.786373  ...  0.572741  0.896471  1.565228   0.91984   \n3  0.000220  0.009957   0.786373  ...  0.572741  0.922353  1.610418   0.91984   \n4  0.000223  0.011201   0.786373  ...  0.572741  1.037647  1.811720   0.91984   \n\n   rho_ratio    V_tube         Re_d      Fr_lc     Fr_dia       We_lc  \n0   4.950495  2.033515  1707.019660  22.905114  17.334515  524.644249  \n1   4.950495  2.088661  1753.311718  23.526270  17.804604  553.485365  \n2   4.950495  2.102448  1764.884733  23.681559  17.922126  560.816217  \n3   4.950495  2.405752  2019.491055  27.097915  20.507613  734.296974  \n4   4.950495  2.433325  2042.637084  27.408492  20.742657  751.225455  \n\n[5 rows x 21 columns]",
      "text/html": "<div>\n<style scoped>\n    .dataframe tbody tr th:only-of-type {\n        vertical-align: middle;\n    }\n\n    .dataframe tbody tr th {\n        vertical-align: top;\n    }\n\n    .dataframe thead th {\n        text-align: right;\n    }\n</style>\n<table border=\"1\" class=\"dataframe\">\n  <thead>\n    <tr style=\"text-align: right;\">\n      <th></th>\n      <th>fluids</th>\n      <th>upper_rho</th>\n      <th>upper_nu</th>\n      <th>lower_rho</th>\n      <th>lower_nu</th>\n      <th>gamma</th>\n      <th>dia</th>\n      <th>Q</th>\n      <th>S</th>\n      <th>g_reduced</th>\n      <th>...</th>\n      <th>lc_d</th>\n      <th>S_d</th>\n      <th>S_lc</th>\n      <th>nu_ratio</th>\n      <th>rho_ratio</th>\n      <th>V_tube</th>\n      <th>Re_d</th>\n      <th>Fr_lc</th>\n      <th>Fr_dia</th>\n      <th>We_lc</th>\n    </tr>\n  </thead>\n  <tbody>\n    <tr>\n      <th>0</th>\n      <td>6</td>\n      <td>918</td>\n      <td>0.00005</td>\n      <td>998</td>\n      <td>0.00001</td>\n      <td>0.03</td>\n      <td>0.010795</td>\n      <td>0.000186</td>\n      <td>0.008585</td>\n      <td>0.786373</td>\n      <td>...</td>\n      <td>0.572741</td>\n      <td>0.795294</td>\n      <td>1.388575</td>\n      <td>0.91984</td>\n      <td>4.950495</td>\n      <td>2.033515</td>\n      <td>1707.019660</td>\n      <td>22.905114</td>\n      <td>17.334515</td>\n      <td>524.644249</td>\n    </tr>\n    <tr>\n      <th>1</th>\n      <td>6</td>\n      <td>918</td>\n      <td>0.00005</td>\n      <td>998</td>\n      <td>0.00001</td>\n      <td>0.03</td>\n      <td>0.010795</td>\n      <td>0.000191</td>\n      <td>0.009982</td>\n      <td>0.786373</td>\n      <td>...</td>\n      <td>0.572741</td>\n      <td>0.924706</td>\n      <td>1.614526</td>\n      <td>0.91984</td>\n      <td>4.950495</td>\n      <td>2.088661</td>\n      <td>1753.311718</td>\n      <td>23.526270</td>\n      <td>17.804604</td>\n      <td>553.485365</td>\n    </tr>\n    <tr>\n      <th>2</th>\n      <td>6</td>\n      <td>918</td>\n      <td>0.00005</td>\n      <td>998</td>\n      <td>0.00001</td>\n      <td>0.03</td>\n      <td>0.010795</td>\n      <td>0.000192</td>\n      <td>0.009677</td>\n      <td>0.786373</td>\n      <td>...</td>\n      <td>0.572741</td>\n      <td>0.896471</td>\n      <td>1.565228</td>\n      <td>0.91984</td>\n      <td>4.950495</td>\n      <td>2.102448</td>\n      <td>1764.884733</td>\n      <td>23.681559</td>\n      <td>17.922126</td>\n      <td>560.816217</td>\n    </tr>\n    <tr>\n      <th>3</th>\n      <td>6</td>\n      <td>918</td>\n      <td>0.00005</td>\n      <td>998</td>\n      <td>0.00001</td>\n      <td>0.03</td>\n      <td>0.010795</td>\n      <td>0.000220</td>\n      <td>0.009957</td>\n      <td>0.786373</td>\n      <td>...</td>\n      <td>0.572741</td>\n      <td>0.922353</td>\n      <td>1.610418</td>\n      <td>0.91984</td>\n      <td>4.950495</td>\n      <td>2.405752</td>\n      <td>2019.491055</td>\n      <td>27.097915</td>\n      <td>20.507613</td>\n      <td>734.296974</td>\n    </tr>\n    <tr>\n      <th>4</th>\n      <td>6</td>\n      <td>918</td>\n      <td>0.00005</td>\n      <td>998</td>\n      <td>0.00001</td>\n      <td>0.03</td>\n      <td>0.010795</td>\n      <td>0.000223</td>\n      <td>0.011201</td>\n      <td>0.786373</td>\n      <td>...</td>\n      <td>0.572741</td>\n      <td>1.037647</td>\n      <td>1.811720</td>\n      <td>0.91984</td>\n      <td>4.950495</td>\n      <td>2.433325</td>\n      <td>2042.637084</td>\n      <td>27.408492</td>\n      <td>20.742657</td>\n      <td>751.225455</td>\n    </tr>\n  </tbody>\n</table>\n<p>5 rows × 21 columns</p>\n</div>"
     },
     "metadata": {},
     "execution_count": 3
    }
   ],
   "source": [
    "data_single.columns=['fluids', 'upper_rho', 'upper_nu', 'lower_rho','lower_nu', 'gamma', 'tubetype', 'dia',\n",
    "       'Q', 'S', 'depth', 'day','temp']\n",
    "\n",
    "\n",
    "# df.rename(columns = {'$b':'B'}, inplace = True)\n",
    "\n",
    "data_single.drop(['tubetype','depth','day','temp'], axis=1, inplace=True)\n",
    "\n",
    "# df = df.drop(df.columns[[0, 1, 3]], axis=1)\n",
    "\n",
    "data_single['Q'] = (0.00006309*data_single['Q'])\n",
    "data_single['S'] = (0.0254*data_single['S'])\n",
    "data_single['lower_nu']=(data_single['lower_nu']*(10e-6))\n",
    "data_single['upper_nu']=(data_single['upper_nu']*(10e-6))\n",
    "data_single['fluids'] = data_single.fluids.astype(\"category\").cat.codes\n",
    "data_single['g_reduced'] = 9.81 * (1 - (data_single['upper_rho'] / data_single['lower_rho']))\n",
    "\n",
    "# Capillary length\n",
    "data_single['lc']= (data_single['gamma'] / (data_single['g_reduced'] * data_single['lower_rho'])) ** (1/2)\n",
    "\n",
    "data_single['lc_d'] = data_single['lc'] / data_single['dia']\n",
    "\n",
    "data_single['S_d'] = data_single['S'] / data_single['dia']\n",
    "data_single['S_lc'] = data_single['S'] / data_single['lc']\n",
    "\n",
    "\n",
    "data_single['nu_ratio'] = data_single['upper_rho'] / data_single['lower_rho']\n",
    "data_single['rho_ratio'] = data_single['upper_nu'] / data_single['lower_nu']\n",
    "\n",
    "data_single['V_tube'] = data_single['Q'] / ((np.pi/4) * (data_single['dia'] ** 2))\n",
    "\n",
    "data_single['Re_d'] = data_single['Q'] / (data_single['lower_nu'] * data_single['dia'])\n",
    "\n",
    "data_single['Fr_lc'] = ((data_single['Q'] ** 2) / (data_single['g_reduced'] * data_single['lc'] * (data_single['dia'] ** 4))) ** (1/2)\n",
    "data_single['Fr_dia'] = ((data_single['Q'] ** 2) / (data_single['g_reduced'] * data_single['dia'] * (data_single['dia'] ** 4))) ** (1/2)\n",
    "data_single['We_lc'] = (data_single['lower_rho'] * data_single['lc'] * (data_single['Q'] ** 2) / (data_single['gamma'] * (data_single['dia'] ** 4)))\n",
    "\n",
    "data_single.head() "
   ]
  },
  {
   "cell_type": "code",
   "execution_count": null,
   "metadata": {},
   "outputs": [],
   "source": [
    "\n",
    "  "
   ]
  },
  {
   "cell_type": "code",
   "execution_count": null,
   "metadata": {},
   "outputs": [],
   "source": []
  },
  {
   "cell_type": "code",
   "execution_count": null,
   "metadata": {},
   "outputs": [],
   "source": []
  },
  {
   "cell_type": "code",
   "execution_count": null,
   "metadata": {},
   "outputs": [],
   "source": []
  },
  {
   "cell_type": "markdown",
   "metadata": {},
   "source": [
    "# Plotting data grouped by labels"
   ]
  },
  {
   "cell_type": "code",
   "execution_count": null,
   "metadata": {
    "tags": []
   },
   "outputs": [],
   "source": [
    "import matplotlib as mpl\n",
    "import matplotlib.font_manager as fm\n",
    "import matplotlib.pyplot as plt\n",
    "\n",
    "# Collect all the font names available to matplotlib\n",
    "#font_names = [f.name for f in fm.fontManager.ttflist]\n",
    "#print(font_names)\n",
    "\n",
    "# Edit the font, font size, and axes width\n",
    "mpl.rcParams['font.family'] = 'Times New Roman'\n",
    "plt.rcParams['font.size'] = 24\n",
    "plt.rcParams['axes.linewidth'] = 2\n",
    "\n",
    "# Create figure object and store it in a variable called 'fig'\n",
    "# (width, height) in inches\n",
    "fig = plt.figure(figsize=(8, 6))\n",
    "# Add axes object to our figure that takes up entire figure\n",
    "ax = fig.add_axes([0, 0, 1, 1])\n",
    "\n",
    "\n",
    "# Add two axes objects to create an inset figure\n",
    "#ax1 = fig.add_axes([0, 0, 1, 1])\n",
    "#ax2 = fig.add_axes([0.5, 0.5, 0.4, 0.4])\n",
    "\n",
    "# Hide the top and right spines of the axis\n",
    "ax.spines['right'].set_visible(False)\n",
    "ax.spines['top'].set_visible(False)\n",
    "\n",
    "# Edit the major and minor ticks of the x and y axes\n",
    "ax.xaxis.set_tick_params(which='major', size=10, width=2, direction='inout')\n",
    "ax.xaxis.set_tick_params(which='minor', size=7, width=2, direction='inout')\n",
    "ax.yaxis.set_tick_params(which='major', size=10, width=2, direction='inout')\n",
    "ax.yaxis.set_tick_params(which='minor', size=7, width=2, direction='inout')\n",
    "\n",
    "# Add the x-axis label with λ for wavelength\n",
    "ax.set_xlabel(r'Q ($\\mathregular{m^3/s}$)', labelpad=10)\n",
    "ax.set_ylabel(r'S ($\\mathregular{in}$)', labelpad=10)\n",
    "\n",
    "# Plot and show our data\n",
    "groups = data_single.groupby(\"dia\")\n",
    "for name, group in groups:\n",
    "    ax.plot(group['Q'], group['S'],'o',label = name)\n",
    "\n",
    "#ax.legend(loc='upper left', frameon=True)\n",
    "\n",
    "# Save the figure\n",
    "fig.savefig('C:\\\\Users\\\\sabbi\\\\Dropbox\\\\Darryl James\\\\Mendeley_library\\\\JetEntrainment\\\\Selective\\\\Qualifying_docs\\\\SW_Python\\\\output\\\\Q_vs_S.png', dpi=300, transparent=False, bbox_inches='tight')\n",
    "\n",
    "\n",
    "plt.show()"
   ]
  },
  {
   "cell_type": "code",
   "execution_count": null,
   "metadata": {
    "tags": []
   },
   "outputs": [],
   "source": [
    "group['Q']"
   ]
  },
  {
   "cell_type": "code",
   "execution_count": null,
   "metadata": {},
   "outputs": [],
   "source": []
  }
 ]
}